{
 "cells": [
  {
   "cell_type": "markdown",
   "metadata": {},
   "source": [
    "### A look at the demographics of students who applied and were admitted to an University of California campus in 2017.\n",
    "\n",
    "**This final dataset is a merger of three dataframes:**\n",
    "\n",
    "    1) A 2017 US Census data for California counties that provides information on population, the level of education\n",
    "    attained, median household income, and percentage of children under 18 in poverty.\n",
    "    2) The second dataframe is a merging of California public and private high schools that breaksdown how many\n",
    "    kids applied, were admitted and enrolled in an University of Calfornia in 2017 by per each ethnic group (White,\n",
    "    African American, Native American, Latino, Asian, and others. For the final dataset, only applicants \n",
    "    and admittance were examined.\n",
    "    3) A 2017 breakdown of the average application GPAs per school by counties."
   ]
  },
  {
   "cell_type": "code",
   "execution_count": 1,
   "metadata": {},
   "outputs": [],
   "source": [
    "import re\n",
    "import numpy as np\n",
    "import pandas as pd"
   ]
  },
  {
   "cell_type": "code",
   "execution_count": 2,
   "metadata": {},
   "outputs": [],
   "source": [
    "CA_demograph = pd.read_csv(\"/Users/susanlieu/Documents/LIS590OMO/Data/ca_demo.csv\", index_col=[0])\n",
    "CA_HS_demograph = pd.read_csv(\"/Users/susanlieu/Documents/LIS590OMO/Data/CA_HS_ethnic.csv\", index_col=[0])\n",
    "CA_GPA = pd.read_csv(\"/Users/susanlieu/Documents/LIS590OMO/Data/gpa.csv\", index_col=[0])\n"
   ]
  },
  {
   "cell_type": "markdown",
   "metadata": {},
   "source": [
    "<font color=blue>**Joined the California counties census data with the California high schools data on \"County\".**</font>\n",
    "\n"
   ]
  },
  {
   "cell_type": "markdown",
   "metadata": {},
   "source": [
    "UC_demograph = CA_demograph.merge(CA_HS_demograph, on=\"County\", how=\"left\")\n",
    "UC_demograph\n"
   ]
  },
  {
   "cell_type": "markdown",
   "metadata": {},
   "source": [
    "<font color = blue>**Joined census and high school dataframe with the GPA dataframe.**</font>"
   ]
  },
  {
   "cell_type": "code",
   "execution_count": 3,
   "metadata": {},
   "outputs": [
    {
     "ename": "NameError",
     "evalue": "name 'UC_demograph' is not defined",
     "output_type": "error",
     "traceback": [
      "\u001b[0;31m---------------------------------------------------------------------------\u001b[0m",
      "\u001b[0;31mNameError\u001b[0m                                 Traceback (most recent call last)",
      "\u001b[0;32m<ipython-input-3-a3fd375870b8>\u001b[0m in \u001b[0;36m<module>\u001b[0;34m()\u001b[0m\n\u001b[0;32m----> 1\u001b[0;31m \u001b[0mUC_by_Counties\u001b[0m \u001b[0;34m=\u001b[0m \u001b[0mUC_demograph\u001b[0m\u001b[0;34m.\u001b[0m\u001b[0mmerge\u001b[0m\u001b[0;34m(\u001b[0m\u001b[0mCA_GPA\u001b[0m\u001b[0;34m,\u001b[0m \u001b[0mon\u001b[0m\u001b[0;34m=\u001b[0m\u001b[0;34m\"County\"\u001b[0m\u001b[0;34m,\u001b[0m \u001b[0mhow\u001b[0m\u001b[0;34m=\u001b[0m\u001b[0;34m\"left\"\u001b[0m\u001b[0;34m)\u001b[0m\u001b[0;34m\u001b[0m\u001b[0m\n\u001b[0m\u001b[1;32m      2\u001b[0m \u001b[0;34m\u001b[0m\u001b[0m\n\u001b[1;32m      3\u001b[0m \u001b[0mUC_by_Counties\u001b[0m\u001b[0;34m\u001b[0m\u001b[0m\n",
      "\u001b[0;31mNameError\u001b[0m: name 'UC_demograph' is not defined"
     ]
    }
   ],
   "source": [
    "UC_by_Counties = UC_demograph.merge(CA_GPA, on=\"County\", how=\"left\")\n",
    "\n",
    "UC_by_Counties"
   ]
  },
  {
   "cell_type": "markdown",
   "metadata": {},
   "source": [
    "\n",
    "<font color = blue>**There are 58 rows and 45 columns.**</font>\n",
    "\n"
   ]
  },
  {
   "cell_type": "code",
   "execution_count": null,
   "metadata": {},
   "outputs": [],
   "source": [
    "UC_by_Counties.shape"
   ]
  },
  {
   "cell_type": "markdown",
   "metadata": {},
   "source": [
    "\n",
    "<font color=blue>**Converted the final dataframe columns to a list to make sure all the columns are there and in which order.**</font>\n",
    "\n"
   ]
  },
  {
   "cell_type": "code",
   "execution_count": null,
   "metadata": {},
   "outputs": [],
   "source": [
    "cols = UC_by_Counties.columns.tolist()\n",
    "cols"
   ]
  },
  {
   "cell_type": "markdown",
   "metadata": {},
   "source": [
    "\n",
    "<font color = blue>**Reordered the columns to how I want to read the data.**</font>\n",
    "\n"
   ]
  },
  {
   "cell_type": "code",
   "execution_count": null,
   "metadata": {},
   "outputs": [],
   "source": [
    "cols.insert(0, cols.pop(cols.index(\"County\")))\n",
    "cols.insert(1, cols.pop(cols.index(\"Total Population\")))\n",
    "cols.insert(2, cols.pop(cols.index(\"Civilian Population 16 to 19 Years:\")))\n",
    "cols.insert(3, cols.pop(cols.index(\"Total Population: White Alone\")))\n",
    "cols.insert(4, cols.pop(cols.index(\"% Total Population: White Alone\")))\n",
    "cols.insert(5, cols.pop(cols.index(\"White Applicants\")))\n",
    "cols.insert(6, cols.pop(cols.index(\"White Admits\")))\n",
    "cols.insert(7, cols.pop(cols.index(\"White Admit Rate\")))\n",
    "cols.insert(8, cols.pop(cols.index(\"Total Population: Black or African American Alone\")))\n",
    "cols.insert(9, cols.pop(cols.index(\"% Total Population: Black or African American Alone\")))\n",
    "cols.insert(10, cols.pop(cols.index(\"Black Applicants\")))\n",
    "cols.insert(11, cols.pop(cols.index(\"Black Admits\")))\n",
    "cols.insert(12, cols.pop(cols.index(\"Black Admit Rate\")))\n",
    "cols.insert(13, cols.pop(cols.index(\"Total Population: American Indian and Alaska Native Alone\")))\n",
    "cols.insert(14, cols.pop(cols.index(\"% Total Population: American Indian and Alaska Native Alone\")))\n",
    "cols.insert(15, cols.pop(cols.index(\"Native American Applicants\")))\n",
    "cols.insert(16, cols.pop(cols.index(\"Native American Admits\")))\n",
    "cols.insert(17, cols.pop(cols.index(\"Native American Admit Rate\")))\n",
    "cols.insert(17, cols.pop(cols.index(\"Total Population: Asian Alone\")))\n",
    "cols.insert(18, cols.pop(cols.index(\"% Total Population: Asian Alone\")))\n",
    "cols.insert(19, cols.pop(cols.index(\"Asian Applicants\")))\n",
    "cols.insert(20, cols.pop(cols.index(\"Asian Admits\")))\n",
    "cols.insert(21, cols.pop(cols.index(\"Asian Admit Rate\")))\n",
    "cols.insert(22, cols.pop(cols.index(\"Total Population: Hispanic or Latino\")))\n",
    "cols.insert(23, cols.pop(cols.index(\"% Total Population: Hispanic or Latino\")))\n",
    "cols.insert(24, cols.pop(cols.index(\"Hispanic/Latino Applicants\")))\n",
    "cols.insert(25, cols.pop(cols.index(\"Hispanic/Latino Admits\")))\n",
    "cols.insert(26, cols.pop(cols.index(\"Hispanic/Latino Admit Rate\")))\n",
    "cols.insert(27, cols.pop(cols.index(\"Total Population: Some Other Race Alone\")))\n",
    "cols.insert(28, cols.pop(cols.index(\"% Total Population: Some Other Race Alone\")))\n",
    "cols.insert(29, cols.pop(cols.index(\"Other Applicants\")))\n",
    "cols.insert(30, cols.pop(cols.index(\"Other Admits\")))\n",
    "cols.insert(31, cols.pop(cols.index(\"Other Admit Rate\")))\n",
    "cols.insert(32, cols.pop(cols.index(\"Total Population: Native Hawaiian and Other Pacific Islander Alone\")))\n",
    "cols.insert(33, cols.pop(cols.index(\"% Total Population: Native Hawaiian and Other Pacific Islander Alone\")))\n",
    "cols.insert(34, cols.pop(cols.index(\"% Population 25 Years and Over: Less than High School\")))\n",
    "cols.insert(35, cols.pop(cols.index(\"% Population 25 Years and Over: High School Graduate or More (Includes Equivalency)\")))\n",
    "cols.insert(36, cols.pop(cols.index(\"% Population 25 Years and Over: Some College or More\")))\n",
    "cols.insert(37, cols.pop(cols.index(\"% Population 25 Years and Over: Bachelor's Degree or More\")))\n",
    "cols.insert(38, cols.pop(cols.index(\"% Population 25 Years and Over: Master's Degree or More\")))\n",
    "cols.insert(39, cols.pop(cols.index(\"% Population 25 Years and Over: Master's Degree or More\")))\n",
    "cols.insert(40, cols.pop(cols.index(\"% Population 25 Years and Over: Professional School Degree or More\")))\n",
    "cols.insert(41, cols.pop(cols.index(\"% Population 25 Years and Over: Doctorate Degree\")))\n",
    "cols.insert(42, cols.pop(cols.index(\"Median Household Income (In 2017 Inflation Adjusted Dollars)\")))\n",
    "cols.insert(43, cols.pop(cols.index(\"% Population Under 18 Years of Age for Whom Poverty Status Is Determined: Living in Poverty\")))\n",
    "cols.insert(44, cols.pop(cols.index(\"App_GPA(avg)\")))\n",
    "\n",
    "# reset the index\n",
    "UC_by_Counties = UC_by_Counties.reindex(columns= cols)\n",
    "\n"
   ]
  },
  {
   "cell_type": "markdown",
   "metadata": {},
   "source": [
    "\n",
    "<font color=blue>**Checked to see if the column ordering is correctly displayed.**</font>\n",
    "\n"
   ]
  },
  {
   "cell_type": "code",
   "execution_count": null,
   "metadata": {},
   "outputs": [],
   "source": [
    "UC_by_Counties"
   ]
  },
  {
   "cell_type": "markdown",
   "metadata": {},
   "source": [
    "\n",
    "<font color=blue>**Wrote out the final dataframe to a csv file.**</font>\n",
    "\n"
   ]
  },
  {
   "cell_type": "code",
   "execution_count": null,
   "metadata": {},
   "outputs": [],
   "source": [
    "UC_by_Counties.to_csv(r\"/Users/susanlieu/Documents/LIS590OMO/Data/UC_County.csv\", sep=\",\", encoding=\"utf-8\")"
   ]
  },
  {
   "cell_type": "code",
   "execution_count": null,
   "metadata": {},
   "outputs": [],
   "source": []
  },
  {
   "cell_type": "code",
   "execution_count": null,
   "metadata": {},
   "outputs": [],
   "source": []
  }
 ],
 "metadata": {
  "kernelspec": {
   "display_name": "Python 3",
   "language": "python",
   "name": "python3"
  },
  "language_info": {
   "codemirror_mode": {
    "name": "ipython",
    "version": 3
   },
   "file_extension": ".py",
   "mimetype": "text/x-python",
   "name": "python",
   "nbconvert_exporter": "python",
   "pygments_lexer": "ipython3",
   "version": "3.6.5"
  }
 },
 "nbformat": 4,
 "nbformat_minor": 2
}
